{
 "cells": [
  {
   "cell_type": "markdown",
   "id": "c2b9db84-b974-4df4-a771-1da7f5f99330",
   "metadata": {},
   "source": [
    "Denis Kravets\n",
    "PythonForDE\n",
    "HomeWork 2"
   ]
  },
  {
   "cell_type": "code",
   "execution_count": 4,
   "id": "efe70bd8-e329-4fdc-a45e-918e6ef9c756",
   "metadata": {},
   "outputs": [
    {
     "name": "stdout",
     "output_type": "stream",
     "text": [
      ".ipynb_checkpoints\n",
      "HomeWork1 20240914\n",
      "HomeWork2 20240915\n"
     ]
    }
   ],
   "source": [
    "import os\n",
    "\n",
    "# Чтение файлов и папок\n",
    "for file in os.listdir('/Users/Denis/Desktop/Учёба/Python для инженерии данных/'):\n",
    "    print(file)"
   ]
  },
  {
   "cell_type": "code",
   "execution_count": 70,
   "id": "019a4d3f-5675-4cc4-85b8-4fd7f407c8bf",
   "metadata": {},
   "outputs": [],
   "source": [
    "from datetime import datetime, timedelta"
   ]
  },
  {
   "cell_type": "code",
   "execution_count": 16,
   "id": "c3cb73ee-dc2f-4ef4-929c-a76693d71013",
   "metadata": {
    "scrolled": true
   },
   "outputs": [],
   "source": [
    "magazines_list = [[]]\n",
    "magazines_list[0] = [\"The Moscow Times\", \"Wednesday, October 2, 2002\"]\n",
    "magazines_list.append([\"The Guardian\", \"Friday, 11.10.13\"])\n",
    "magazines_list.append([\"Daily News\", \"Thursday, 18 August 1977\"])"
   ]
  },
  {
   "cell_type": "code",
   "execution_count": 48,
   "id": "50dc34e0-650e-4a74-a64e-b6eae71e8e54",
   "metadata": {},
   "outputs": [
    {
     "name": "stdout",
     "output_type": "stream",
     "text": [
      "The Moscow Times  -  Wednesday, October 2, 2002\n"
     ]
    },
    {
     "data": {
      "text/plain": [
       "datetime.datetime(2002, 10, 2, 0, 0)"
      ]
     },
     "execution_count": 48,
     "metadata": {},
     "output_type": "execute_result"
    }
   ],
   "source": [
    "number = 0\n",
    "marazine = magazines_list[number][0]\n",
    "str_date = magazines_list[number][1]\n",
    "print(marazine, ' - ', str_date)\n",
    "datetime.strptime(magazines_list[number][1], '%A, %B %d, %Y')"
   ]
  },
  {
   "cell_type": "code",
   "execution_count": 50,
   "id": "7ac46d5a-72ef-4b09-b43d-0e52f322e700",
   "metadata": {},
   "outputs": [
    {
     "name": "stdout",
     "output_type": "stream",
     "text": [
      "The Guardian  -  Friday, 11.10.13\n"
     ]
    },
    {
     "data": {
      "text/plain": [
       "datetime.datetime(2013, 10, 11, 0, 0)"
      ]
     },
     "execution_count": 50,
     "metadata": {},
     "output_type": "execute_result"
    }
   ],
   "source": [
    "number = 1\n",
    "marazine = magazines_list[number][0]\n",
    "str_date = magazines_list[number][1]\n",
    "print(marazine, ' - ', str_date)\n",
    "datetime.strptime(magazines_list[number][1], '%A, %d.%m.%y')"
   ]
  },
  {
   "cell_type": "code",
   "execution_count": 53,
   "id": "8e266392-f454-4d2e-9708-bcd81f152d22",
   "metadata": {},
   "outputs": [
    {
     "name": "stdout",
     "output_type": "stream",
     "text": [
      "Daily News  -  Thursday, 18 August 1977\n"
     ]
    },
    {
     "data": {
      "text/plain": [
       "datetime.datetime(1977, 8, 18, 0, 0)"
      ]
     },
     "execution_count": 53,
     "metadata": {},
     "output_type": "execute_result"
    }
   ],
   "source": [
    "number = 2\n",
    "marazine = magazines_list[number][0]\n",
    "str_date = magazines_list[number][1]\n",
    "print(marazine, ' - ', str_date)\n",
    "datetime.strptime(magazines_list[number][1], '%A, %d %B %Y')"
   ]
  },
  {
   "cell_type": "code",
   "execution_count": 99,
   "id": "43b3e792-6122-4778-acb3-a2fb362b277d",
   "metadata": {},
   "outputs": [],
   "source": [
    "def date_range(start_range: str, end_range: str):\n",
    "    try:\n",
    "        start_range = datetime.strptime(start_range, '%Y-%m-%d')\n",
    "        end_range = datetime.strptime(end_range, '%Y-%m-%d')\n",
    "    except:\n",
    "        return []\n",
    "    current_date = start_range\n",
    "    date_list = []\n",
    "    while current_date <= end_range:\n",
    "        date_list.append(current_date.strftime('%Y-%m-%d'))\n",
    "        current_date = current_date + timedelta(days=1)\n",
    "    return date_list"
   ]
  },
  {
   "cell_type": "code",
   "execution_count": 100,
   "id": "0a5fdfa4-a178-4d43-b8f1-6c3514137b58",
   "metadata": {},
   "outputs": [
    {
     "data": {
      "text/plain": [
       "['2022-01-01', '2022-01-02', '2022-01-03']"
      ]
     },
     "execution_count": 100,
     "metadata": {},
     "output_type": "execute_result"
    }
   ],
   "source": [
    "date_range('2022-01-01', '2022-01-03')"
   ]
  },
  {
   "cell_type": "code",
   "execution_count": 101,
   "id": "c96b0466-64c7-44ba-a4a9-2ade714f25b7",
   "metadata": {},
   "outputs": [
    {
     "data": {
      "text/plain": [
       "[]"
      ]
     },
     "execution_count": 101,
     "metadata": {},
     "output_type": "execute_result"
    }
   ],
   "source": [
    "date_range('2022-01-03', '2022-01-01')"
   ]
  },
  {
   "cell_type": "code",
   "execution_count": 102,
   "id": "0da51248-1c42-4f46-9ec3-a431e52c4cbd",
   "metadata": {},
   "outputs": [
    {
     "data": {
      "text/plain": [
       "[]"
      ]
     },
     "execution_count": 102,
     "metadata": {},
     "output_type": "execute_result"
    }
   ],
   "source": [
    "date_range('2022-02-30', '2022-02-31')"
   ]
  }
 ],
 "metadata": {
  "kernelspec": {
   "display_name": "Python 3 (ipykernel)",
   "language": "python",
   "name": "python3"
  },
  "language_info": {
   "codemirror_mode": {
    "name": "ipython",
    "version": 3
   },
   "file_extension": ".py",
   "mimetype": "text/x-python",
   "name": "python",
   "nbconvert_exporter": "python",
   "pygments_lexer": "ipython3",
   "version": "3.12.6"
  }
 },
 "nbformat": 4,
 "nbformat_minor": 5
}
