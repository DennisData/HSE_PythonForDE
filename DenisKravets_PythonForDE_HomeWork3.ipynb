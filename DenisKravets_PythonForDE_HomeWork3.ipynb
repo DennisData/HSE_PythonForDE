{
 "cells": [
  {
   "cell_type": "code",
   "execution_count": 28,
   "id": "38aa28a1-cee0-47f8-bd1a-ae123ef50865",
   "metadata": {},
   "outputs": [],
   "source": [
    "import pandas as pd\n",
    "from datetime import datetime"
   ]
  },
  {
   "cell_type": "code",
   "execution_count": 55,
   "id": "d83c7105-6bf1-4c81-89a3-08dc9c86e026",
   "metadata": {},
   "outputs": [],
   "source": [
    "class Account:\n",
    "    def __init__(self):\n",
    "        self.name = '123 456'\n",
    "        self.balance = 1000\n",
    "        self.currency = 'rubles'\n",
    "        self.history = pd.DataFrame(columns = ['time','type','count'])\n",
    "        dict = {'time': datetime.now(),\n",
    "                'type': 'start',\n",
    "                'count': 100}\n",
    "        self.history = self.history.append(pd.Series(dict), ignore_index=True)        \n",
    "        \n",
    "    def current_balance(self):\n",
    "        print('current_balance: ', self.balance, ' rubles')\n",
    "        \n",
    "    def print_history(self):\n",
    "        print('current_history: \\n', self.history)\n",
    "    \n",
    "    def top_up_balance(self, count):\n",
    "        self.balance += count\n",
    "        dict = {'time': datetime.now(),\n",
    "                'type': 'start',\n",
    "                'count': self.balance}\n",
    "        self.history = self.history.append(pd.Series(dict), ignore_index=True)      \n",
    "        self.current_balance()\n",
    "        \n",
    "    def take_balance(self, count):\n",
    "        self.balance -= count\n",
    "        dict = {'time': datetime.now(),\n",
    "                'type': 'start',\n",
    "                'count': self.balance}\n",
    "        self.history = self.history.append(pd.Series(dict), ignore_index=True)      \n",
    "        self.current_balance()\n",
    "        "
   ]
  },
  {
   "cell_type": "code",
   "execution_count": 56,
   "id": "3c9eb7f2-51a0-463f-b4c9-4b3580ffb37b",
   "metadata": {},
   "outputs": [],
   "source": [
    "new_account = Account()"
   ]
  },
  {
   "cell_type": "code",
   "execution_count": 57,
   "id": "fd7824c3-3fbf-4302-9559-e34ae580fb78",
   "metadata": {},
   "outputs": [
    {
     "name": "stdout",
     "output_type": "stream",
     "text": [
      "current_balance:  1000  rubles\n"
     ]
    }
   ],
   "source": [
    "new_account.current_balance()"
   ]
  },
  {
   "cell_type": "code",
   "execution_count": 58,
   "id": "f99d9d1e-feea-4ac3-8678-1a061fa5880b",
   "metadata": {},
   "outputs": [
    {
     "name": "stdout",
     "output_type": "stream",
     "text": [
      "current_balance:  2500  rubles\n"
     ]
    }
   ],
   "source": [
    "# Пополнение баланса\n",
    "new_account.top_up_balance(1500)"
   ]
  },
  {
   "cell_type": "code",
   "execution_count": 59,
   "id": "817ed97a-2f51-449b-9682-5f9b6a0e9efc",
   "metadata": {},
   "outputs": [
    {
     "name": "stdout",
     "output_type": "stream",
     "text": [
      "current_balance:  1800  rubles\n"
     ]
    }
   ],
   "source": [
    "# Снять деньги со счёта\n",
    "new_account.take_balance(700)"
   ]
  },
  {
   "cell_type": "code",
   "execution_count": 60,
   "id": "77db8a18-9953-4ada-b5fd-e44f183730cc",
   "metadata": {},
   "outputs": [
    {
     "name": "stdout",
     "output_type": "stream",
     "text": [
      "current_history: \n",
      "                         time   type count\n",
      "0 2024-10-05 23:12:01.875316  start   100\n",
      "1 2024-10-05 23:12:03.696866  start  2500\n",
      "2 2024-10-05 23:12:04.323541  start  1800\n"
     ]
    }
   ],
   "source": [
    "new_account.print_history()"
   ]
  }
 ],
 "metadata": {
  "kernelspec": {
   "display_name": "Python 3",
   "language": "python",
   "name": "python3"
  },
  "language_info": {
   "codemirror_mode": {
    "name": "ipython",
    "version": 3
   },
   "file_extension": ".py",
   "mimetype": "text/x-python",
   "name": "python",
   "nbconvert_exporter": "python",
   "pygments_lexer": "ipython3",
   "version": "3.6.8"
  }
 },
 "nbformat": 4,
 "nbformat_minor": 5
}
